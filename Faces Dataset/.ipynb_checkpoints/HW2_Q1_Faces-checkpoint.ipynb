{
 "cells": [
  {
   "cell_type": "code",
   "execution_count": 2,
   "metadata": {
    "collapsed": true
   },
   "outputs": [],
   "source": [
    "import numpy as np\n",
    "from scipy import misc\n",
    "from matplotlib import pylab as plt\n",
    "import matplotlib.cm as cm\n",
    "%matplotlib inline \n",
    "# ^This is a \"magic function\" that allows you to display plots inside notebook cells"
   ]
  },
  {
   "cell_type": "markdown",
   "metadata": {},
   "source": [
    "# b.) Load the training set..."
   ]
  },
  {
   "cell_type": "markdown",
   "metadata": {},
   "source": [
    "## Procedure to import the image data\n",
    "\n",
    "Basically, the following block of code parses images by first parsing strings from a text file that lists the paths to the images of the test set and the training set. It works by iterating over each line of the opened text file object using: \n",
    "\n",
    "**for line in open('./faces/train.txt'):**\n",
    "\n",
    "The code then creates an image variable equal to the image located at the file path that gets fed into: \n",
    "\n",
    "**im = misc.imread()**\n",
    "\n",
    "The file path comes from a text file in which paths are represented by strings separated by spaces (arranged into a number of lines), so we split each line using **split()** (with empty parenthesis to split on blank spaces). We also use **strip()** to strip away any spaces at the beginning and the end of each line (analogously, with empty parenthesis to strip out blank spaces). Here's an explanation as to what the line: **line.strip().split()[0]** does: https://stackoverflow.com/questions/21462879/in-line-split-1-what-does-the-1-in-the-square-brackets-indicate-in-pytho. Basically the command **line.strip().split()** creates a list, because it uses **split()**. Then using [0] references the first entry of the list.\n",
    "\n",
    "Next, using **reshape(2500, )**, the the code flattens the image into a 0x2500 dimensional array, aka a 1x2500 row vector."
   ]
  },
  {
   "cell_type": "markdown",
   "metadata": {},
   "source": [
    "## Display one of the faces from the *training* set."
   ]
  },
  {
   "cell_type": "code",
   "execution_count": 3,
   "metadata": {},
   "outputs": [
    {
     "name": "stdout",
     "output_type": "stream",
     "text": [
      "training attributes matrix shape:  (540, 2500)\n",
      "training labels matrix shape:  (540,)\n"
     ]
    },
    {
     "data": {
      "image/png": "[encoded data removed]",
      "text/plain": [
       "<matplotlib.figure.Figure at 0x1ab129b9358>"
      ]
     },
     "metadata": {},
     "output_type": "display_data"
    }
   ],
   "source": [
    "train_labels, train_data = [], []\n",
    "for line in open('train.txt'):\n",
    "    im = misc.imread(line.strip().split()[0])\n",
    "    train_data.append(im.reshape(2500,))\n",
    "    train_labels.append(line.strip().split()[1])\n",
    "train_data, train_labels = np.array(train_data, dtype=float), np.array(train_labels, dtype=int)\n",
    "\n",
    "print(\"training attributes matrix shape: \", train_data.shape)\n",
    "print(\"training labels matrix shape: \", train_labels.shape)\n",
    "\n",
    "# generate and plot a random image from the training set\n",
    "plt.imshow(train_data[10, :].reshape(50,50), cmap = cm.Greys_r)\n",
    "plt.show()"
   ]
  },
  {
   "cell_type": "markdown",
   "metadata": {},
   "source": [
    "## Display one of the faces from the *test* set."
   ]
  },
  {
   "cell_type": "code",
   "execution_count": 4,
   "metadata": {
    "scrolled": true
   },
   "outputs": [
    {
     "name": "stdout",
     "output_type": "stream",
     "text": [
      "test attributes matrix shape:  (100, 2500)\n",
      "test labels matrix shape:  (100,)\n"
     ]
    },
    {
     "data": {
      "image/png": "[encoded data removed]",
      "text/plain": [
       "<matplotlib.figure.Figure at 0x1ab138b2c18>"
      ]
     },
     "metadata": {},
     "output_type": "display_data"
    }
   ],
   "source": [
    "test_labels, test_data = [], []\n",
    "for line in open('test.txt'):\n",
    "    im = misc.imread(line.strip().split()[0])\n",
    "    test_data.append(im.reshape(2500,))\n",
    "    test_labels.append(line.strip().split()[1])\n",
    "test_data, test_labels = np.array(test_data, dtype=float), np.array(test_labels, dtype=int)\n",
    "\n",
    "print(\"test attributes matrix shape: \", test_data.shape)\n",
    "print(\"test labels matrix shape: \", test_labels.shape)\n",
    "\n",
    "# generate and plot a random image from the test set\n",
    "plt.imshow(test_data[10, :].reshape(50,50), cmap = cm.Greys_r)\n",
    "plt.show()\n",
    "\n"
   ]
  },
  {
   "cell_type": "markdown",
   "metadata": {},
   "source": [
    "# c.) Average face...\n",
    "Compute the average face ** *μ* ** from the whole **training** set by summing up every\n",
    "column in **X** then dividing by the number of faces. Display the average face as a grayscale\n",
    "image."
   ]
  },
  {
   "cell_type": "code",
   "execution_count": 5,
   "metadata": {},
   "outputs": [
    {
     "name": "stdout",
     "output_type": "stream",
     "text": [
      "The array representing the avg face is:  [ 59.25185185  56.10185185  52.42222222 ...,  67.22222222  64.61851852\n",
      "  59.27592593]\n",
      "Average face array dimensions are:  (2500,)\n"
     ]
    },
    {
     "data": {
      "image/png": "[encoded data removed]",
      "text/plain": [
       "<matplotlib.figure.Figure at 0x1ab138d84e0>"
      ]
     },
     "metadata": {},
     "output_type": "display_data"
    }
   ],
   "source": [
    "# Iterate over every column, make a list of each column and take its average, \n",
    "# write down the average as corresponding entry in row vector\n",
    "\n",
    "attributeColumnList = []\n",
    "listOfAverages = []\n",
    "for column in range(len(train_data[0,:])):\n",
    "    attributeColumnList = train_data[:,column]\n",
    "    averageOfColumn = attributeColumnList.mean()\n",
    "    listOfAverages.append(averageOfColumn)\n",
    "avgFaceArray = np.array(listOfAverages)\n",
    "\n",
    "# Test the results\n",
    "print(\"The array representing the avg face is: \", avgFaceArray)\n",
    "print(\"Average face array dimensions are: \", avgFaceArray.shape)\n",
    "\n",
    "# Generate and show an image of the average face\n",
    "plt.imshow(avgFaceArray.reshape(50,50), cmap = cm.Greys_r)\n",
    "plt.show()\n",
    "        "
   ]
  },
  {
   "cell_type": "markdown",
   "metadata": {},
   "source": [
    "# d.) Mean subtraction...\n",
    "Subtract the average face  ** *μ* ** from every column in **X**. That is, ** $x_i$ ** := ** $x_i$ ** -  ** *$μ_i$* **,\n",
    "where ** $x_i$ ** is the $i$-th column of **X**. Pick a face image after mean subtraction from the new **X**\n",
    "and display that image in grayscale. Do the same thing for the test set ** $X_test$ ** using the precomputed\n",
    "average face ** *μ* ** from part c.)."
   ]
  },
  {
   "cell_type": "code",
   "execution_count": null,
   "metadata": {
    "collapsed": true
   },
   "outputs": [],
   "source": [
    "# Iterate over every row, and for each column in that row, subtract the corresponding element of the avgFaceArray. \n",
    "# Then display the revised image associated with row 11, using the result of part a.) as a point of comparison.\n",
    "\n",
    "rowWithMuSubtracted = []\n",
    "\n",
    "for row in range(len(train_data[])):\n",
    "    for column in range(len(train_data[0,:])):\n",
    "        \n",
    "        \n",
    "        \n",
    "        attributeColumnList = train_data[:,column]\n",
    "        averageOfColumn = attributeColumnList.mean()\n",
    "        listOfAverages.append(averageOfColumn)\n",
    "avgFaceArray = np.array(listOfAverages)"
   ]
  },
  {
   "cell_type": "code",
   "execution_count": 29,
   "metadata": {},
   "outputs": [
    {
     "data": {
      "text/plain": [
       "array([[2],\n",
       "       [3]])"
      ]
     },
     "execution_count": 29,
     "metadata": {},
     "output_type": "execute_result"
    }
   ],
   "source": [
    "x[0][1:]"
   ]
  },
  {
   "cell_type": "code",
   "execution_count": 30,
   "metadata": {},
   "outputs": [
    {
     "data": {
      "text/plain": [
       "array([[2],\n",
       "       [3]])"
      ]
     },
     "execution_count": 30,
     "metadata": {},
     "output_type": "execute_result"
    }
   ],
   "source": [
    "x[0, 1:]"
   ]
  },
  {
   "cell_type": "code",
   "execution_count": null,
   "metadata": {
    "collapsed": true
   },
   "outputs": [],
   "source": [
    "\n",
    "\n",
    "\n",
    "\n",
    "\n",
    "\n"
   ]
  },
  {
   "cell_type": "code",
   "execution_count": null,
   "metadata": {
    "collapsed": true
   },
   "outputs": [],
   "source": []
  },
  {
   "cell_type": "code",
   "execution_count": null,
   "metadata": {
    "collapsed": true
   },
   "outputs": [],
   "source": []
  },
  {
   "cell_type": "code",
   "execution_count": null,
   "metadata": {
    "collapsed": true
   },
   "outputs": [],
   "source": []
  },
  {
   "cell_type": "code",
   "execution_count": null,
   "metadata": {
    "collapsed": true
   },
   "outputs": [],
   "source": []
  }
 ],
 "metadata": {
  "kernelspec": {
   "display_name": "Python 3",
   "language": "python",
   "name": "python3"
  }
 },
 "nbformat": 4,
 "nbformat_minor": 2
}
