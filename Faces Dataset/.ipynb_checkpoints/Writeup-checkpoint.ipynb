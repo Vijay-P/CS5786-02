{
 "cells": [
  {
   "cell_type": "code",
   "execution_count": 8,
   "metadata": {
    "collapsed": false
   },
   "outputs": [
    {
     "data": {
      "text/latex": [
       "Show how to solve the generalized eigenvalue problem $\\textit{max} \\ a^T Ba$\n",
       "subject to $a^T Wa = 1$ by transforming to a standard eigenvalue problem."
      ],
      "text/plain": [
       "<IPython.core.display.Latex object>"
      ]
     },
     "metadata": {},
     "output_type": "display_data"
    }
   ],
   "source": [
    "%%latex\n",
    "Show how to solve the generalized eigenvalue problem $\\textit{max} \\ a^T Ba$\n",
    "subject to $a^T Wa = 1$ by transforming to a standard eigenvalue problem."
   ]
  },
  {
   "cell_type": "code",
   "execution_count": 9,
   "metadata": {
    "collapsed": false
   },
   "outputs": [
    {
     "data": {
      "text/latex": [
       "What is the best projection direction?\n",
       "Fisher posed the problem as follows:\n",
       "Find the linear combination $Z = a > X$ such that the between-\n",
       "class variance is maximized relative to the within-class variance."
      ],
      "text/plain": [
       "<IPython.core.display.Latex object>"
      ]
     },
     "metadata": {},
     "output_type": "display_data"
    }
   ],
   "source": [
    "%%latex\n",
    "What is the best projection direction?\n",
    "Fisher posed the problem as follows:\n",
    "Find the linear combination $Z = a^TX$ such that the between-\n",
    "class variance is maximized relative to the within-class variance."
   ]
  }
 ],
 "metadata": {
  "kernelspec": {
   "display_name": "Python 3",
   "language": "python",
   "name": "python3"
  },
  "language_info": {
   "codemirror_mode": {
    "name": "ipython",
    "version": 3
   },
   "file_extension": ".py",
   "mimetype": "text/x-python",
   "name": "python",
   "nbconvert_exporter": "python",
   "pygments_lexer": "ipython3",
   "version": "3.5.4"
  }
 },
 "nbformat": 4,
 "nbformat_minor": 1
}
