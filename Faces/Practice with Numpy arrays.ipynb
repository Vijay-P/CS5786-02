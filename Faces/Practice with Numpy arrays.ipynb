{
 "cells": [
  {
   "cell_type": "code",
   "execution_count": 3,
   "metadata": {
    "collapsed": true
   },
   "outputs": [],
   "source": [
    "import numpy as np"
   ]
  },
  {
   "cell_type": "markdown",
   "metadata": {},
   "source": [
    "## Difference between a Python list and a Numpy array:\n",
    "If you don't specify that you're making a Numpy array, you're making a list of lists! As in the following:"
   ]
  },
  {
   "cell_type": "code",
   "execution_count": 35,
   "metadata": {},
   "outputs": [
    {
     "name": "stdout",
     "output_type": "stream",
     "text": [
      "as Python list a =  [[[1], [2], [3]], [[4], [5], [6]]]\n"
     ]
    }
   ],
   "source": [
    "a = [[[1],[2],[3]], [[4],[5],[6]]]\n",
    "print(\"as Python list a = \", a)"
   ]
  },
  {
   "cell_type": "markdown",
   "metadata": {},
   "source": [
    "However, if you specify that you're making a numpy array, that's what you get!"
   ]
  },
  {
   "cell_type": "code",
   "execution_count": 36,
   "metadata": {},
   "outputs": [
    {
     "name": "stdout",
     "output_type": "stream",
     "text": [
      "as numpy array, x = \n",
      " [[[1]\n",
      "  [2]\n",
      "  [3]]\n",
      "\n",
      " [[4]\n",
      "  [5]\n",
      "  [6]]]\n"
     ]
    }
   ],
   "source": [
    "x = np.array([[[1],[2],[3]], [[4],[5],[6]]])\n",
    "print(\"as numpy array, x = \\n\", x)"
   ]
  },
  {
   "cell_type": "markdown",
   "metadata": {},
   "source": [
    "## What is the difference between each element [enclosed] in square brackets vs not enclosed? \n",
    "### Contrast the following cell with the cell above."
   ]
  },
  {
   "cell_type": "code",
   "execution_count": 34,
   "metadata": {},
   "outputs": [
    {
     "name": "stdout",
     "output_type": "stream",
     "text": [
      "as numpy array, y = \n",
      " [[1 2 3]\n",
      " [4 5 6]]\n"
     ]
    }
   ],
   "source": [
    "y = np.array([[1,2,3], [4,5,6]])\n",
    "print(\"as numpy array, y = \\n\", y)"
   ]
  },
  {
   "cell_type": "code",
   "execution_count": 39,
   "metadata": {},
   "outputs": [
    {
     "name": "stdout",
     "output_type": "stream",
     "text": [
      "Shape of 'x': (2, 3, 1)\n",
      "Shape of 'y': (2, 3)\n"
     ]
    }
   ],
   "source": [
    "# print(\"Shape of 'a':\", a.shape)\n",
    "print(\"Shape of 'x':\", x.shape)\n",
    "print(\"Shape of 'y':\", y.shape)"
   ]
  },
  {
   "cell_type": "markdown",
   "metadata": {},
   "source": [
    "Ah, the conclusion here is that for every layer of nested brackets, another dimension is added to the array. That's why the x array has 3 dimensions - the brackets around individual elements imply that there is a dimension into the page. In contrast to the y array, which only has width and height. \n",
    "<br/><br/> For more, see: https://stackoverflow.com/questions/39694318/difference-between-single-and-double-bracket-numpy-array for an explanation of 0D vis 1D results. \n",
    "<br/><br/>\n"
   ]
  },
  {
   "cell_type": "markdown",
   "metadata": {},
   "source": [
    "#  \n",
    "#  \n",
    "#  "
   ]
  },
  {
   "cell_type": "markdown",
   "metadata": {},
   "source": [
    "## Indexing Python List-of-Lists versus Numpy Arrays\n",
    ">-Index **list of lists** using square brackets: **[row][column]**\n",
    "<br/>\n",
    ">-Index **numpy arrays** w one set of brackets and a comma **[row,column]**"
   ]
  },
  {
   "cell_type": "code",
   "execution_count": 48,
   "metadata": {},
   "outputs": [
    {
     "data": {
      "text/plain": [
       "array([[4],\n",
       "       [5],\n",
       "       [6]])"
      ]
     },
     "execution_count": 48,
     "metadata": {},
     "output_type": "execute_result"
    }
   ],
   "source": [
    "x[0:2][1]"
   ]
  },
  {
   "cell_type": "markdown",
   "metadata": {},
   "source": [
    "The cell above gives confusing results because x is actually a list of list *of lists*. Need to reduce x to be just a list of lists."
   ]
  },
  {
   "cell_type": "code",
   "execution_count": 14,
   "metadata": {},
   "outputs": [
    {
     "data": {
      "text/plain": [
       "array([[5],\n",
       "       [6]])"
      ]
     },
     "execution_count": 14,
     "metadata": {},
     "output_type": "execute_result"
    }
   ],
   "source": [
    "x[1, 1:]"
   ]
  },
  {
   "cell_type": "code",
   "execution_count": 15,
   "metadata": {},
   "outputs": [
    {
     "data": {
      "text/plain": [
       "array([[1],\n",
       "       [4]])"
      ]
     },
     "execution_count": 15,
     "metadata": {},
     "output_type": "execute_result"
    }
   ],
   "source": [
    "# Practice: print the first column of data, which should have values of 1, 4.\n",
    "x[0:2,0]"
   ]
  },
  {
   "cell_type": "code",
   "execution_count": 19,
   "metadata": {},
   "outputs": [
    {
     "data": {
      "text/plain": [
       "array([[1],\n",
       "       [4]])"
      ]
     },
     "execution_count": 19,
     "metadata": {},
     "output_type": "execute_result"
    }
   ],
   "source": [
    "# Same result as cell above\n",
    "x[:,0]"
   ]
  },
  {
   "cell_type": "code",
   "execution_count": 20,
   "metadata": {},
   "outputs": [
    {
     "data": {
      "text/plain": [
       "array([[1],\n",
       "       [2],\n",
       "       [3]])"
      ]
     },
     "execution_count": 20,
     "metadata": {},
     "output_type": "execute_result"
    }
   ],
   "source": [
    "# Can you select a column using two sets of square brackets? It seems like NO. But why??\n",
    "x[0:2][0]"
   ]
  },
  {
   "cell_type": "markdown",
   "metadata": {},
   "source": [
    "#  \n",
    "#  \n",
    "#  "
   ]
  },
  {
   "cell_type": "markdown",
   "metadata": {},
   "source": [
    "## Why does the code below throw an error?"
   ]
  },
  {
   "cell_type": "code",
   "execution_count": 42,
   "metadata": {},
   "outputs": [
    {
     "name": "stdout",
     "output_type": "stream",
     "text": [
      "y[0,0] =  1\n"
     ]
    },
    {
     "ename": "TypeError",
     "evalue": "list indices must be integers or slices, not tuple",
     "output_type": "error",
     "traceback": [
      "\u001b[1;31m---------------------------------------------------------------------------\u001b[0m",
      "\u001b[1;31mTypeError\u001b[0m                                 Traceback (most recent call last)",
      "\u001b[1;32m<ipython-input-42-2fc88eaecc8a>\u001b[0m in \u001b[0;36m<module>\u001b[1;34m()\u001b[0m\n\u001b[0;32m      1\u001b[0m \u001b[0mz\u001b[0m \u001b[1;33m=\u001b[0m \u001b[1;33m[\u001b[0m\u001b[1;33m[\u001b[0m\u001b[1;36m1\u001b[0m\u001b[1;33m,\u001b[0m\u001b[1;36m2\u001b[0m\u001b[1;33m,\u001b[0m\u001b[1;36m3\u001b[0m\u001b[1;33m]\u001b[0m\u001b[1;33m,\u001b[0m\u001b[1;33m[\u001b[0m\u001b[1;36m1\u001b[0m\u001b[1;33m,\u001b[0m\u001b[1;36m2\u001b[0m\u001b[1;33m,\u001b[0m\u001b[1;36m3\u001b[0m\u001b[1;33m]\u001b[0m\u001b[1;33m]\u001b[0m\u001b[1;33m\u001b[0m\u001b[0m\n\u001b[0;32m      2\u001b[0m \u001b[0mprint\u001b[0m\u001b[1;33m(\u001b[0m\u001b[1;34m\"y[0,0] = \"\u001b[0m\u001b[1;33m,\u001b[0m \u001b[0my\u001b[0m\u001b[1;33m[\u001b[0m\u001b[1;36m0\u001b[0m\u001b[1;33m,\u001b[0m\u001b[1;36m0\u001b[0m\u001b[1;33m]\u001b[0m\u001b[1;33m)\u001b[0m\u001b[1;33m\u001b[0m\u001b[0m\n\u001b[1;32m----> 3\u001b[1;33m \u001b[0mprint\u001b[0m\u001b[1;33m(\u001b[0m\u001b[1;34m\"z[0,0] = \"\u001b[0m\u001b[1;33m,\u001b[0m \u001b[0mz\u001b[0m\u001b[1;33m[\u001b[0m\u001b[1;36m0\u001b[0m\u001b[1;33m,\u001b[0m\u001b[1;36m0\u001b[0m\u001b[1;33m]\u001b[0m\u001b[1;33m)\u001b[0m\u001b[1;33m\u001b[0m\u001b[0m\n\u001b[0m",
      "\u001b[1;31mTypeError\u001b[0m: list indices must be integers or slices, not tuple"
     ]
    }
   ],
   "source": [
    "z = [[1,2,3],[1,2,3]]\n",
    "print(\"y[0,0] = \", y[0,0])\n",
    "print(\"z[0,0] = \", z[0,0])    "
   ]
  },
  {
   "cell_type": "markdown",
   "metadata": {},
   "source": [
    "## Try to figure it out."
   ]
  },
  {
   "cell_type": "code",
   "execution_count": 44,
   "metadata": {},
   "outputs": [
    {
     "name": "stdout",
     "output_type": "stream",
     "text": [
      "[[1, 2, 3], [1, 2, 3]]\n"
     ]
    }
   ],
   "source": [
    "z = [[1,2,3],[1,2,3]]\n",
    "print(z)"
   ]
  },
  {
   "cell_type": "markdown",
   "metadata": {},
   "source": [
    "## Ahh, notice that z is a list of lists, NOT a numpy array! \n",
    "Because I never converted z into a numpy array. That's probably why I wasn't able to call z[0,0] in order to print that element. <br/> <br/> \n",
    "I *do* wonder how I would index that list, though... \n"
   ]
  },
  {
   "cell_type": "code",
   "execution_count": 50,
   "metadata": {},
   "outputs": [
    {
     "name": "stdout",
     "output_type": "stream",
     "text": [
      "y[0,0] =  1\n",
      "z[0,0] =  1\n"
     ]
    }
   ],
   "source": [
    "z = np.array([[1,2,3],[1,2,3]])\n",
    "print(\"y[0,0] = \", y[0,0])\n",
    "print(\"z[0,0] = \", z[0,0])   "
   ]
  },
  {
   "cell_type": "markdown",
   "metadata": {},
   "source": [
    "Ahhh nice, it works!"
   ]
  },
  {
   "cell_type": "markdown",
   "metadata": {},
   "source": [
    "# Go back to the kNN implementation of the first HW\n",
    "See if I can get it to work, at least partially, wrt that stubborn error about \"...tuple...\""
   ]
  },
  {
   "cell_type": "code",
   "execution_count": null,
   "metadata": {
    "collapsed": true
   },
   "outputs": [],
   "source": [
    "# define a function to select the k rows that represent the vectors with the shortest\n",
    "# distances to an inputted vector.\n",
    "import operator\n",
    "\n",
    "def getNeighbors(inputVector, inputVectorRow, int(k)):\n",
    "    numRows = 100;\n",
    "    \n",
    "    # distancesMatrix has 3 columns: row index #, distance from input vector, label value.\n",
    "    # neighborsMatrix has the same 3 columns.\n",
    "    distancesMatrix = np.zeros(shape = (numRows-1, 3), dtype=float) #don't count the row against which you're comparing.\n",
    "    neighborsMatrix = np.zeros(shape = (k, 3), dtype=float)\n",
    "    \n",
    "    for row in range(numRows): \n",
    "        if inputVectorRow != row:\n",
    "            distance = sc.spatial.distance.euclidean(inputVector, attributesMatrixOriginal[row])\n",
    "            distancesMatrix[row, 0] = row\n",
    "            distancesMatrix[row, 1] = distance\n",
    "            distancesMatrix[row, 2] = labelsMatrix[row, 0]\n",
    "    distancesMatrix = sorted(distancesMatrix, key=operator.itemgetter(1))\n",
    "    \n",
    "    neighborsMatrix = distancesMatrix[1,1:].deepcopy()\n",
    "#     neighborsMatrix = np.c_[neighborsMatrix, distancesMatrix[0,:]] \n",
    "\n",
    "    \n",
    "#     for i in range(k):\n",
    "#         neighborsMatrix[i,0] = distancesMatrix[i, 0]\n",
    "#         neighborsMatrix[i,1] = distancesMatrix[i, 1]\n",
    "#         neighborsMatrix[i,2] = distancesMatrix[i, 2] \n",
    "    \n",
    "    return neighborsMatrix;  \n",
    "\n",
    "print(getNeighbors(attributesMatrixOriginal[1,0:], 1, 7))"
   ]
  },
  {
   "cell_type": "code",
   "execution_count": null,
   "metadata": {
    "collapsed": true
   },
   "outputs": [],
   "source": []
  },
  {
   "cell_type": "code",
   "execution_count": 22,
   "metadata": {},
   "outputs": [
    {
     "name": "stdout",
     "output_type": "stream",
     "text": [
      "[[1 2 3 4]]\n",
      "shape of x with two sets of square brackets  (1, 4)\n"
     ]
    }
   ],
   "source": [
    "# Can I repeat a row-vector to make a matrix where every row equals that vector?\n",
    "import numpy as np\n",
    "x = np.array([[1,2,3,4]])\n",
    "print(x)\n",
    "print(\"shape of x with two sets of square brackets \", x.shape)\n"
   ]
  },
  {
   "cell_type": "code",
   "execution_count": 25,
   "metadata": {},
   "outputs": [
    {
     "name": "stdout",
     "output_type": "stream",
     "text": [
      "[[1 2 3 4]\n",
      " [1 2 3 4]\n",
      " [1 2 3 4]]\n"
     ]
    }
   ],
   "source": [
    "y = np.repeat(x, 3, axis=0)\n",
    "print(y)"
   ]
  },
  {
   "cell_type": "code",
   "execution_count": null,
   "metadata": {
    "collapsed": true
   },
   "outputs": [],
   "source": []
  },
  {
   "cell_type": "code",
   "execution_count": null,
   "metadata": {
    "collapsed": true
   },
   "outputs": [],
   "source": []
  },
  {
   "cell_type": "code",
   "execution_count": null,
   "metadata": {
    "collapsed": true
   },
   "outputs": [],
   "source": []
  },
  {
   "cell_type": "code",
   "execution_count": null,
   "metadata": {
    "collapsed": true
   },
   "outputs": [],
   "source": []
  },
  {
   "cell_type": "code",
   "execution_count": null,
   "metadata": {
    "collapsed": true
   },
   "outputs": [],
   "source": []
  },
  {
   "cell_type": "code",
   "execution_count": null,
   "metadata": {
    "collapsed": true
   },
   "outputs": [],
   "source": []
  },
  {
   "cell_type": "code",
   "execution_count": null,
   "metadata": {
    "collapsed": true
   },
   "outputs": [],
   "source": []
  }
 ],
 "metadata": {
  "kernelspec": {
   "display_name": "Python 3",
   "language": "python",
   "name": "python3"
  },
  "language_info": {
   "codemirror_mode": {
    "name": "ipython",
    "version": 3
   },
   "file_extension": ".py",
   "mimetype": "text/x-python",
   "name": "python",
   "nbconvert_exporter": "python",
   "pygments_lexer": "ipython3",
   "version": "3.6.1"
  }
 },
 "nbformat": 4,
 "nbformat_minor": 2
}
