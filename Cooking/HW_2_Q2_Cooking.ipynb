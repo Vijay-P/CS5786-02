{
 "cells": [
  {
   "cell_type": "code",
   "execution_count": 2,
   "metadata": {
    "collapsed": true
   },
   "outputs": [],
   "source": [
    "import numpy as np\n",
    "from scipy import misc\n",
    "from matplotlib import pylab as plt\n",
    "import matplotlib.cm as cm\n",
    "from sklearn import linear_model\n",
    "%matplotlib inline \n",
    "# ^This is a \"magic function\" that allows you to display plots inside notebook cells\n",
    "\n",
    "import json\n"
   ]
  },
  {
   "cell_type": "code",
   "execution_count": 3,
   "metadata": {
    "collapsed": false
   },
   "outputs": [
    {
     "data": {
      "text/plain": [
       "dict"
      ]
     },
     "execution_count": 3,
     "metadata": {},
     "output_type": "execute_result"
    }
   ],
   "source": [
    "f = open(\"train.json/train.json\", \"r\")\n",
    "data = json.load(f)\n",
    "type(data[0])"
   ]
  },
  {
   "cell_type": "code",
   "execution_count": 4,
   "metadata": {
    "collapsed": false
   },
   "outputs": [
    {
     "data": {
      "text/plain": [
       "{'cuisine': 'greek',\n",
       " 'id': 10259,\n",
       " 'ingredients': ['romaine lettuce',\n",
       "  'black olives',\n",
       "  'grape tomatoes',\n",
       "  'garlic',\n",
       "  'pepper',\n",
       "  'purple onion',\n",
       "  'seasoning',\n",
       "  'garbanzo beans',\n",
       "  'feta cheese crumbles']}"
      ]
     },
     "execution_count": 4,
     "metadata": {},
     "output_type": "execute_result"
    }
   ],
   "source": [
    "data[0]"
   ]
  },
  {
   "cell_type": "code",
   "execution_count": 5,
   "metadata": {
    "collapsed": false
   },
   "outputs": [
    {
     "data": {
      "text/plain": [
       "'romaine lettuce'"
      ]
     },
     "execution_count": 5,
     "metadata": {},
     "output_type": "execute_result"
    }
   ],
   "source": [
    "data[0]['ingredients'][0]"
   ]
  },
  {
   "cell_type": "markdown",
   "metadata": {},
   "source": [
    "# b.) Tell us about the data...\n",
    "How many samples (dishes) are there in the training set? How many\n",
    "categories (types of cuisine)? Use a list to keep all the unique ingredients appearing in the\n",
    "training set. How many unique ingredients are there?"
   ]
  },
  {
   "cell_type": "code",
   "execution_count": 36,
   "metadata": {
    "collapsed": false
   },
   "outputs": [
    {
     "name": "stdout",
     "output_type": "stream",
     "text": [
      "There are 39774 dishes in the dataset.\n",
      "There are 6714 unique types of ingredients in the dataset.\n",
      "There are 20 types of cuisine in the dataset.\n"
     ]
    }
   ],
   "source": [
    "cuisineTypes = set()\n",
    "uniqueIngredients = set()\n",
    "for recipe in data:\n",
    "    cuisineTypes.add(recipe['cuisine'])\n",
    "    ingredients = set(recipe['ingredients'])\n",
    "    uniqueIngredients = uniqueIngredients.union(ingredients)\n",
    "         \n",
    "print(\"There are \" + str(len(data)) + \" dishes in the dataset.\")\n",
    "print(\"There are\", len(uniqueIngredients), \"unique types of ingredients in the dataset.\")        \n",
    "print(\"There are\", len(cuisineTypes), \"types of cuisine in the dataset.\")"
   ]
  },
  {
   "cell_type": "markdown",
   "metadata": {
    "collapsed": true
   },
   "source": [
    "# d.)\n",
    "Represent each dish by a binary ingredient feature vector. Suppose there are d different ingredients\n",
    "in total from the training set, represent each dish by a 1×d binary ingredient vector\n",
    "x, where xi = 1 if the dish contains ingredient i and xi = 0 otherwise. For example, suppose\n",
    "all the ingredients we have in the training set are { beef, chicken, egg, lettuce, tomato, rice }\n",
    "and the dish is made by ingredients { chicken, lettuce, tomato, rice }, then the dish could be\n",
    "represented by a 6×1 binary vector [0, 1, 0, 1, 1, 1] as its feature or attribute. Use n ×d feature\n",
    "matrix to represent all the dishes in training set and test set, where n is the number of dishes."
   ]
  },
  {
   "cell_type": "markdown",
   "metadata": {},
   "source": [
    "# Do not run the following cell."
   ]
  },
  {
   "cell_type": "code",
   "execution_count": 89,
   "metadata": {
    "collapsed": false
   },
   "outputs": [
    {
     "name": "stdout",
     "output_type": "stream",
     "text": [
      "Generated feature matrix of shape: (39774, 6714)\n"
     ]
    }
   ],
   "source": [
    "import pickle\n",
    "\n",
    "uniqueIngredients = list(uniqueIngredients)\n",
    "\n",
    "def vectorform(recipe):\n",
    "    return np.in1d(uniqueIngredients, recipe['ingredients'], assume_unique = True).astype(int)\n",
    "\n",
    "feature_mat = np.array(list(map(vectorform, data)))\n",
    "\n",
    "print(\"Generated feature matrix of shape:\", feature_mat.shape)\n",
    "\n",
    "with open('feature.pickle', 'wb') as handle:\n",
    "    pickle.dump(feature_mat, handle, protocol=pickle.HIGHEST_PROTOCOL)"
   ]
  },
  {
   "cell_type": "markdown",
   "metadata": {},
   "source": [
    "# Run the following cell to load feature_mat without regenerating."
   ]
  },
  {
   "cell_type": "code",
   "execution_count": 91,
   "metadata": {
    "collapsed": false
   },
   "outputs": [
    {
     "name": "stdout",
     "output_type": "stream",
     "text": [
      "Loaded feature matrix of shape: (39774, 6714)\n"
     ]
    }
   ],
   "source": [
    "import pickle\n",
    "with open('feature.pickle', 'rb') as handle:\n",
    "    feature_mat = pickle.load(handle)\n",
    "print(\"Loaded feature matrix of shape:\", feature_mat.shape)"
   ]
  },
  {
   "cell_type": "code",
   "execution_count": null,
   "metadata": {
    "collapsed": true
   },
   "outputs": [],
   "source": []
  }
 ],
 "metadata": {
  "kernelspec": {
   "display_name": "Python 3",
   "language": "python",
   "name": "python3"
  },
  "language_info": {
   "codemirror_mode": {
    "name": "ipython",
    "version": 3
   },
   "file_extension": ".py",
   "mimetype": "text/x-python",
   "name": "python",
   "nbconvert_exporter": "python",
   "pygments_lexer": "ipython3",
   "version": "3.5.4"
  }
 },
 "nbformat": 4,
 "nbformat_minor": 2
}
