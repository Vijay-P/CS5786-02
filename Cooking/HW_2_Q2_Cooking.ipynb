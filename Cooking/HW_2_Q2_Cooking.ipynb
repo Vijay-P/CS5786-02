{
 "cells": [
  {
   "cell_type": "code",
   "execution_count": 6,
   "metadata": {
    "collapsed": true
   },
   "outputs": [],
   "source": [
    "import numpy as np\n",
    "from scipy import misc\n",
    "from matplotlib import pylab as plt\n",
    "import matplotlib.cm as cm\n",
    "from sklearn import linear_model\n",
    "%matplotlib inline \n",
    "# ^This is a \"magic function\" that allows you to display plots inside notebook cells\n",
    "\n",
    "import json\n"
   ]
  },
  {
   "cell_type": "code",
   "execution_count": 20,
   "metadata": {},
   "outputs": [
    {
     "data": {
      "text/plain": [
       "dict"
      ]
     },
     "execution_count": 20,
     "metadata": {},
     "output_type": "execute_result"
    }
   ],
   "source": [
    "f = open(\"train.json/train.json\", \"r\")\n",
    "data = json.load(f)\n",
    "type(data[0])"
   ]
  },
  {
   "cell_type": "code",
   "execution_count": 15,
   "metadata": {},
   "outputs": [
    {
     "data": {
      "text/plain": [
       "{'cuisine': 'greek',\n",
       " 'id': 10259,\n",
       " 'ingredients': ['romaine lettuce',\n",
       "  'black olives',\n",
       "  'grape tomatoes',\n",
       "  'garlic',\n",
       "  'pepper',\n",
       "  'purple onion',\n",
       "  'seasoning',\n",
       "  'garbanzo beans',\n",
       "  'feta cheese crumbles']}"
      ]
     },
     "execution_count": 15,
     "metadata": {},
     "output_type": "execute_result"
    }
   ],
   "source": [
    "data[0]"
   ]
  },
  {
   "cell_type": "code",
   "execution_count": 17,
   "metadata": {},
   "outputs": [
    {
     "data": {
      "text/plain": [
       "'romaine lettuce'"
      ]
     },
     "execution_count": 17,
     "metadata": {},
     "output_type": "execute_result"
    }
   ],
   "source": [
    "data[0]['ingredients'][0]"
   ]
  },
  {
   "cell_type": "markdown",
   "metadata": {},
   "source": [
    "# b.) Tell us about the data...\n",
    "How many samples (dishes) are there in the training set? How many\n",
    "categories (types of cuisine)? Use a list to keep all the unique ingredients appearing in the\n",
    "training set. How many unique ingredients are there?"
   ]
  },
  {
   "cell_type": "code",
   "execution_count": 27,
   "metadata": {},
   "outputs": [
    {
     "name": "stdout",
     "output_type": "stream",
     "text": [
      "There are 39774 dishes in the dataset.\n"
     ]
    }
   ],
   "source": [
    "print(\"There are \" + str(len(data)) + \" dishes in the dataset.\")"
   ]
  },
  {
   "cell_type": "code",
   "execution_count": null,
   "metadata": {},
   "outputs": [],
   "source": [
    "cuisineTypes = []\n",
    "uniqueIngredients = []\n",
    "for recipe in data:\n",
    "    if recipe['cuisine'] not in cuisineTypes:\n",
    "        cuisineTypes.append(recipe['cuisine'])\n",
    "    for ingredient in recipe['ingredients']:\n",
    "        if ingredient not in uniqueIngredients:\n",
    "            uniqueIngredients.append(ingredient)\n",
    "         \n",
    "        \n",
    "print(\"There are\", len(uniqueIngredients), \"unique types of ingredients in the dataset.\")        \n",
    "print(\"There are\", len(cuisineTypes), \"types of cuisine in the dataset.\")"
   ]
  },
  {
   "cell_type": "code",
   "execution_count": null,
   "metadata": {
    "collapsed": true
   },
   "outputs": [],
   "source": []
  }
 ],
 "metadata": {
  "kernelspec": {
   "display_name": "Python 3",
   "language": "python",
   "name": "python3"
  },
  "language_info": {
   "codemirror_mode": {
    "name": "ipython",
    "version": 3
   },
   "file_extension": ".py",
   "mimetype": "text/x-python",
   "name": "python",
   "nbconvert_exporter": "python",
   "pygments_lexer": "ipython3",
   "version": "3.6.1"
  }
 },
 "nbformat": 4,
 "nbformat_minor": 2
}
